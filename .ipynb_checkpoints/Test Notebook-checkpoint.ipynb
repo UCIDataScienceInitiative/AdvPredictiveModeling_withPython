{
 "cells": [
  {
   "cell_type": "markdown",
   "metadata": {},
   "source": [
    "## Test Notebook\n",
    "\n",
    "Before running this notebook, open a command line prompt and enter:\n",
    "    \n",
    "    conda update conda  \n",
    "\n",
    "Then, once any updates complete, enter:\n",
    "    \n",
    "    conda update anaconda\n",
    "\n",
    "If Anaconda performed any updates, you need to shutdown the currently running jupyter server and restart.\n",
    "\n",
    "After your Anaconda distribution is current, click into the gray part of cell below, and then run the cell by clicking \"Cell >> Run\" or the play button up above.  "
   ]
  },
  {
   "cell_type": "code",
   "execution_count": null,
   "metadata": {
    "collapsed": false
   },
   "outputs": [],
   "source": [
    "import numpy;   print 'numpy:     ', numpy.__version__\n",
    "import scipy;   print 'scipy:     ', scipy.__version__\n",
    "import pandas;  print 'pandas:    ', pandas.__version__\n",
    "import sklearn; print 'sklearn:   ', sklearn.__version__\n",
    "import matplotlib; print 'matplotlib:',matplotlib.__version__"
   ]
  },
  {
   "cell_type": "markdown",
   "metadata": {},
   "source": [
    "Your versions should match what's below:\n",
    "\n",
    "`\n",
    "numpy:      1.11.3\n",
    "scipy:      0.18.1\n",
    "pandas:     0.19.0\n",
    "sklearn:    0.18.1\n",
    "matplotlib: 1.5.1\n",
    "`"
   ]
  },
  {
   "cell_type": "markdown",
   "metadata": {},
   "source": [
    "We also need to download two datasets.  SciKit-Learn will handle everything for us; we just need to call the appropriate functions.  Run the code block below.  It may take several minutes.  The lfw_pairs dataset is around 200 MB."
   ]
  },
  {
   "cell_type": "code",
   "execution_count": null,
   "metadata": {
    "collapsed": false
   },
   "outputs": [],
   "source": [
    "from sklearn.datasets import fetch_olivetti_faces\n",
    "from sklearn.datasets import fetch_lfw_pairs\n",
    "from sklearn.datasets import fetch_mldata\n",
    "\n",
    "# faces dataset\n",
    "faces_dataset = fetch_olivetti_faces(shuffle=True)\n",
    "\n",
    "# 'labeled faces in the wild' dataset\n",
    "lfw_train = fetch_lfw_pairs(subset='train')\n",
    "lfw_test = fetch_lfw_pairs(subset='test')\n",
    "\n",
    "# MNIST dataset\n",
    "mnist = fetch_mldata('MNIST original')\n",
    "\n",
    "print faces_dataset.data.shape\n",
    "print lfw_train['pairs'].shape\n",
    "print mnist.data.shape"
   ]
  },
  {
   "cell_type": "markdown",
   "metadata": {},
   "source": [
    "The code should print:\n",
    "\n",
    "`\n",
    "(400, 4096)\n",
    "(2200, 2, 62, 47)\n",
    "(70000, 784)\n",
    "`"
   ]
  }
 ],
 "metadata": {
  "kernelspec": {
   "display_name": "Python 2",
   "language": "python",
   "name": "python2"
  },
  "language_info": {
   "codemirror_mode": {
    "name": "ipython",
    "version": 2
   },
   "file_extension": ".py",
   "mimetype": "text/x-python",
   "name": "python",
   "nbconvert_exporter": "python",
   "pygments_lexer": "ipython2",
   "version": "2.7.11"
  }
 },
 "nbformat": 4,
 "nbformat_minor": 0
}
