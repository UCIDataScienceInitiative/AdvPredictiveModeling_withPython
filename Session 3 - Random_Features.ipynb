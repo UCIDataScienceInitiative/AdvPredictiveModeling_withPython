{
 "cells": [
  {
   "cell_type": "markdown",
   "metadata": {},
   "source": [
    "![alt text](http://datascience.uci.edu/wp-content/uploads/sites/2/2014/09/data_science_logo_with_image1.png 'UCI_data_science')"
   ]
  },
  {
   "cell_type": "markdown",
   "metadata": {},
   "source": [
    "# Advanced Predictive Modeling with Python \n",
    "## Session #2: Feature Engineering II\n",
    "Author: [Eric Nalisnick](http://www.ics.uci.edu/~enalisni/)"
   ]
  },
  {
   "cell_type": "markdown",
   "metadata": {},
   "source": [
    "### Schedule for Today\n",
    "\n",
    "|Start Time | Session |\n",
    "|-----------|---------|\n",
    "|8:30am     | Check In|\n",
    "|9:00am     | Feature Engineering I |\n",
    "|10:30am    | Break |\n",
    "|10:45am    | Feature Engineering II |\n",
    "|12:30pm    | Lunch |\n",
    "|12:30pm    | **Random Features** |\n",
    "|12:30pm    | Break |\n",
    "|12:30pm    | Ensembling |\n",
    "|5:00pm    | End |\n",
    "\n",
    "### Goals of this Lesson\n",
    "- Random Projections for Dimensionality Reduction\n",
    "- Classification Under Feature Noise\n",
    "\n",
    "### References \n",
    "- [Random Projections in Dimensionality Reduction](http://www.ime.unicamp.br/~wanderson/Artigos/randon_projection_kdd.pdf)\n",
    "- [*Dropout: A Simple Way to Prevent NNs from Overfitting](http://jmlr.org/papers/volume15/srivastava14a/srivastava14a.pdf)\n",
    "- [SciKit-Learn's documentation on dimensionality reduction](http://scikit-learn.org/stable/modules/decomposition.html#decompositions)\n",
    "\n",
    "## 0.  Preliminaries\n",
    "First we need to import Numpy, Pandas, MatPlotLib..."
   ]
  },
  {
   "cell_type": "code",
   "execution_count": 1,
   "metadata": {
    "collapsed": false
   },
   "outputs": [],
   "source": [
    "from IPython.display import Image\n",
    "import matplotlib.pyplot as plt\n",
    "import numpy as np\n",
    "import pandas as pd\n",
    "import time\n",
    "%matplotlib inline"
   ]
  },
  {
   "cell_type": "markdown",
   "metadata": {},
   "source": [
    "Again we need functions for shuffling the data and calculating classification errrors.  "
   ]
  },
  {
   "cell_type": "code",
   "execution_count": 2,
   "metadata": {
    "collapsed": false
   },
   "outputs": [],
   "source": [
    "### function for shuffling the data and labels\n",
    "def shuffle_in_unison(features, labels):\n",
    "    rng_state = np.random.get_state()\n",
    "    np.random.shuffle(features)\n",
    "    np.random.set_state(rng_state)\n",
    "    np.random.shuffle(labels)\n",
    "    \n",
    "### calculate classification errors\n",
    "# return a percentage: (number misclassified)/(total number of datapoints)\n",
    "def calc_classification_error(predictions, class_labels):\n",
    "    n = predictions.size\n",
    "    num_of_errors = 0.\n",
    "    for idx in xrange(n):\n",
    "        if (predictions[idx] >= 0.5 and class_labels[idx]==0) or (predictions[idx] < 0.5 and class_labels[idx]==1):\n",
    "            num_of_errors += 1\n",
    "    return num_of_errors/n"
   ]
  },
  {
   "cell_type": "markdown",
   "metadata": {},
   "source": [
    "### 0.1  Load the dataset of handwritten digits\n",
    "We are going to use the Bob Ross paintings dataset throughout this session.  Let's again load the data and run PCA...  "
   ]
  },
  {
   "cell_type": "code",
   "execution_count": 60,
   "metadata": {
    "collapsed": false
   },
   "outputs": [
    {
     "name": "stdout",
     "output_type": "stream",
     "text": [
      "Dataset size: 14780 x 784\n"
     ]
    },
    {
     "data": {
      "image/png": "[encoded data removed]",
      "text/plain": [
       "<matplotlib.figure.Figure at 0x13bb4e5d0>"
      ]
     },
     "metadata": {},
     "output_type": "display_data"
    }
   ],
   "source": [
    "# load the 70,000 x 784 matrix\n",
    "from sklearn.datasets import fetch_mldata\n",
    "mnist = fetch_mldata('MNIST original')\n",
    "idxs_to_keep = []\n",
    "for idx in xrange(mnist.data.shape[0]): \n",
    "    if mnist.target[idx] == 0 or mnist.target[idx] == 1: idxs_to_keep.append(idx)\n",
    "mnist_x, mnist_y = (mnist.data[idxs_to_keep,:]/255., mnist.target[idxs_to_keep])\n",
    "shuffle_in_unison(mnist_x, mnist_y)\n",
    "print \"Dataset size: %d x %d\"%(mnist_x.shape)\n",
    "\n",
    "# make a train / test split\n",
    "x_train, x_test = (mnist_x[:10000,:], mnist_x[10000:,:])\n",
    "y_train, y_test = (mnist_y[:10000], mnist_y[10000:])\n",
    "\n",
    "# subplot containing first image\n",
    "ax1 = plt.subplot(1,2,1)\n",
    "digit = mnist_x[1,:]\n",
    "ax1.imshow(np.reshape(digit, (28, 28)), cmap='Greys_r')\n",
    "plt.show()"
   ]
  },
  {
   "cell_type": "markdown",
   "metadata": {
    "collapsed": true
   },
   "source": [
    "## 1 Random Projections\n",
    "\n",
    "Recall the [Principal Component Analysis](https://en.wikipedia.org/wiki/Principal_component_analysis) model we covered in the last session.  Again, the goal of PCA is for a given datapoint $\\mathbf{x}_{i}$, find a lower-dimensional representation $\\mathbf{h}_{i}$ such that $\\mathbf{x}_{i}$ can be 'predicted' from $\\mathbf{h}_{i}$ using a linear transformation.  Again, the loss function can be written as: $$ = \\sum_{i=1}^{N} (\\mathbf{x}_{i} - \\mathbf{x}_{i}\\mathbf{W}\\mathbf{W}^{T})^{2}.$$   \n",
    "\n",
    "\n",
    "\n",
    "Now let's run PCA on the MNIST dataset..."
   ]
  },
  {
   "cell_type": "code",
   "execution_count": 15,
   "metadata": {
    "collapsed": false
   },
   "outputs": [
    {
     "name": "stdout",
     "output_type": "stream",
     "text": [
      "Dataset is now of size: 10000 x 40\n"
     ]
    }
   ],
   "source": [
    "# set the random number generator for reproducability\n",
    "np.random.seed(49)\n",
    "\n",
    "# define the dimensionality of the hidden rep.\n",
    "n_components = 40\n",
    "\n",
    "# Randomly initialize the Weight matrix\n",
    "W = np.random.normal(size=(x_train.shape[1], n_components), scale=1./x_train.shape[1])\n",
    "\n",
    "train_red = np.dot(x_train, W)\n",
    "test_red = np.dot(x_test, W)\n",
    "print \"Dataset is now of size: %d x %d\"%(train_red.shape)"
   ]
  },
  {
   "cell_type": "markdown",
   "metadata": {
    "collapsed": true
   },
   "source": [
    "Let's run a kNN classifier on the projections..."
   ]
  },
  {
   "cell_type": "code",
   "execution_count": 18,
   "metadata": {
    "collapsed": false
   },
   "outputs": [],
   "source": [
    "from sklearn.neighbors import KNeighborsClassifier\n",
    "from sklearn.linear_model import LogisticRegression\n",
    "\n",
    "knn = KNeighborsClassifier(n_neighbors=3)\n",
    "knn.fit(x_train, y_train) \n",
    "preds = knn.predict(x_test)\n",
    "knn_error_orig = calc_classification_error(preds, y_test) * 100\n",
    "\n",
    "lr = LogisticRegression()\n",
    "lr.fit(x_train, y_train) \n",
    "preds = lr.predict(x_test)\n",
    "lr_error_orig = calc_classification_error(preds, y_test) * 100"
   ]
  },
  {
   "cell_type": "code",
   "execution_count": 27,
   "metadata": {
    "collapsed": false
   },
   "outputs": [],
   "source": [
    "knn = KNeighborsClassifier(n_neighbors=3)\n",
    "knn.fit(train_red, y_train) \n",
    "preds = knn.predict(test_red)\n",
    "knn_error_red = calc_classification_error(preds, y_test) * 100\n",
    "\n",
    "lr = LogisticRegression()\n",
    "lr.fit(train_red, y_train) \n",
    "preds = lr.predict(test_red)\n",
    "lr_error_red = calc_classification_error(preds, y_test) * 100"
   ]
  },
  {
   "cell_type": "code",
   "execution_count": 43,
   "metadata": {
    "collapsed": false
   },
   "outputs": [
    {
     "data": {
      "image/png": "[encoded data removed]",
      "text/plain": [
       "<matplotlib.figure.Figure at 0x13bbf0350>"
      ]
     },
     "metadata": {},
     "output_type": "display_data"
    }
   ],
   "source": [
    "plt.bar([0,1,2,3], [knn_error_orig, lr_error_orig, knn_error_red, lr_error_red], color=['r','r','b','b'], align='center')\n",
    "plt.xticks([0,1,2,3], ['kNN - OS', 'Log. Reg - OS', 'kNN - RP', 'Log. Reg. - RP'])\n",
    "plt.ylim([0,5.])\n",
    "plt.xlabel(\"Classifers and Features\")\n",
    "plt.ylabel(\"Classification Error\")\n",
    "plt.show()"
   ]
  },
  {
   "cell_type": "markdown",
   "metadata": {},
   "source": [
    "## 2.  Adding Noise to Features\n",
    "\n",
    "like DAE..."
   ]
  },
  {
   "cell_type": "markdown",
   "metadata": {},
   "source": [
    "### 0.1 Training with gradient descent\n",
    "We are going to use the Bob Ross paintings dataset throughout this session.  Let's again load the data and run PCA...  "
   ]
  },
  {
   "cell_type": "code",
   "execution_count": 62,
   "metadata": {
    "collapsed": false
   },
   "outputs": [
    {
     "name": "stdout",
     "output_type": "stream",
     "text": [
      "2328952.33503\n",
      "1549925.50873\n",
      "983667.320988\n",
      "750448.893311\n"
     ]
    },
    {
     "name": "stderr",
     "output_type": "stream",
     "text": [
      "/anaconda/lib/python2.7/site-packages/ipykernel/__main__.py:2: RuntimeWarning: divide by zero encountered in log\n",
      "  from ipykernel import kernelapp as app\n",
      "/anaconda/lib/python2.7/site-packages/ipykernel/__main__.py:2: RuntimeWarning: invalid value encountered in multiply\n",
      "  from ipykernel import kernelapp as app\n"
     ]
    },
    {
     "name": "stdout",
     "output_type": "stream",
     "text": [
      "534539.575448\n",
      "445389.889948\n",
      "355019.417982\n",
      "Training ended after 200 iterations, taking a total of 33.68 seconds.\n",
      "Final Cross-Entropy Error: 247543.26\n",
      "Classification Error on Test Set: 53.68%\n"
     ]
    }
   ],
   "source": [
    "def cross_entropy(labels, f):\n",
    "    return np.sum(-1*np.multiply(labels,np.log(f)) - np.multiply((np.ones(labels.shape[0])-labels),np.log(np.ones(labels.shape[0])-f)))\n",
    "\n",
    "def compute_Gradient(features, labels, f):\n",
    "    return np.dot((f-labels).T,features).T\n",
    "\n",
    "def logistic(x): \n",
    "    return 1./(1+np.exp(-x))\n",
    "\n",
    "x_train = x_train[:1000,:]\n",
    "y_train = y_train[:1000]\n",
    "\n",
    "# set the random number generator for reproducability\n",
    "np.random.seed(49)\n",
    "\n",
    "# Randomly initialize the Beta vector\n",
    "beta = np.random.normal(size=(x_train.shape[1],1))\n",
    "# Initialize the step-size\n",
    "alpha = 0.00001\n",
    "# Initialize the gradient\n",
    "grad = np.infty\n",
    "# Set the tolerance \n",
    "tol = 1e-6\n",
    "# Initialize error\n",
    "old_error = 0\n",
    "error = [np.infty]\n",
    "\n",
    "# Run Gradient Descent\n",
    "start_time = time.time()\n",
    "iter_idx = 1\n",
    "# loop until gradient updates become small\n",
    "while (alpha*np.linalg.norm(grad) > tol) and (iter_idx < 200):\n",
    "    x_corrupt = np.multiply(x_train, np.random.binomial(n=1, p=.8, size=x_train.shape))\n",
    "    f = logistic(np.dot(x_corrupt, beta))\n",
    "    old_error = error[-1]\n",
    "    # track the error\n",
    "    error.append(cross_entropy(y_train, f)) \n",
    "    if iter_idx % 25 == 0: print error[-1]\n",
    "    grad = compute_Gradient(x_corrupt, y_train, f)\n",
    "    # update parameters\n",
    "    beta = beta - alpha*grad\n",
    "    iter_idx += 1\n",
    "end_time = time.time()\n",
    "print \"Training ended after %i iterations, taking a total of %.2f seconds.\" %(iter_idx, end_time-start_time)\n",
    "print \"Final Cross-Entropy Error: %.2f\" %(error[-1])\n",
    "\n",
    "# compute error on test data\n",
    "predictions = logistic(np.dot(x_test, beta))\n",
    "print \"Classification Error on Test Set: %.2f%%\" %(calc_classification_error(predictions[:,0], y_test) * 100)"
   ]
  },
  {
   "cell_type": "code",
   "execution_count": null,
   "metadata": {
    "collapsed": true
   },
   "outputs": [],
   "source": []
  }
 ],
 "metadata": {
  "kernelspec": {
   "display_name": "Python 2",
   "language": "python",
   "name": "python2"
  },
  "language_info": {
   "codemirror_mode": {
    "name": "ipython",
    "version": 2
   },
   "file_extension": ".py",
   "mimetype": "text/x-python",
   "name": "python",
   "nbconvert_exporter": "python",
   "pygments_lexer": "ipython2",
   "version": "2.7.11"
  }
 },
 "nbformat": 4,
 "nbformat_minor": 0
}
